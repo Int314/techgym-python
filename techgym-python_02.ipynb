{
  "nbformat": 4,
  "nbformat_minor": 0,
  "metadata": {
    "colab": {
      "name": "Untitled0.ipynb",
      "provenance": [],
      "toc_visible": true,
      "authorship_tag": "ABX9TyO8oHOojRZ2Bn6+nTd9kQOI",
      "include_colab_link": true
    },
    "kernelspec": {
      "name": "python3",
      "display_name": "Python 3"
    }
  },
  "cells": [
    {
      "cell_type": "markdown",
      "metadata": {
        "id": "view-in-github",
        "colab_type": "text"
      },
      "source": [
        "<a href=\"https://colab.research.google.com/github/Int314/techgym-python/blob/master/techgym-python_02.ipynb\" target=\"_parent\"><img src=\"https://colab.research.google.com/assets/colab-badge.svg\" alt=\"Open In Colab\"/></a>"
      ]
    },
    {
      "cell_type": "code",
      "metadata": {
        "id": "djemMQ-vLkhm",
        "colab_type": "code",
        "colab": {
          "base_uri": "https://localhost:8080/",
          "height": 255
        },
        "outputId": "a692e5a3-55b0-4a8b-e97d-49cfe8b75a95"
      },
      "source": [
        "import random\n",
        "\n",
        "alphabet_number = {'A':0,'B':1,'C':2}\n",
        "data = [['見','貝'], ['土','士'], ['眠','眼']]\n",
        "level = 1\n",
        "\n",
        "def start_message():\n",
        "  print('違う漢字の番号(例:A1)を入力してください')\n",
        "\n",
        "def section_message():\n",
        "  print('レベル:' + str(level))\n",
        "\n",
        "def change_inpurt_number(input_str):\n",
        "  input_list = list(input_str)\n",
        "  alphabet = input_list[0]\n",
        "  number = input_list[1]\n",
        "  return alphabet_number[alphabet] + ((int(number) - 1) * len(alphabet_number))\n",
        "\n",
        "def view_question():\n",
        "  random_number =  random.randint(0, 2)\n",
        "  mistake_number = random.randint(0, 8)\n",
        "  print('デバッグ:mistake_number = ' + str(mistake_number))\n",
        "  print(data[random_number])\n",
        "\n",
        "  print('／｜A B C')\n",
        "  print('ーーーーー')\n",
        "\n",
        "  count_all_str = 0\n",
        "  for i in range(3):\n",
        "    choice_string_mullti = ''\n",
        "    choice_string_mullti += (str(i + 1) + '｜')\n",
        "    for j in range(3):\n",
        "      if count_all_str == mistake_number:\n",
        "        choice_string_mullti += data[random_number][1]\n",
        "      else:\n",
        "        choice_string_mullti += data[random_number][0]\n",
        "      count_all_str += 1\n",
        "    print(choice_string_mullti)\n",
        "\n",
        "def play():\n",
        "  section_message()\n",
        "  view_question()\n",
        "  choice = input('(例:A1)')\n",
        "  input_number =  change_inpurt_number(choice)\n",
        "  print('デバッグ:choice = ' + choice)\n",
        "  print('デバッグ:input_number = ' + str(input_number))\n",
        "\n",
        "start_message()\n",
        "play()\n",
        "\n"
      ],
      "execution_count": 67,
      "outputs": [
        {
          "output_type": "stream",
          "text": [
            "違う漢字の番号(例:A1)を入力してください\n",
            "レベル:1\n",
            "デバッグ:mistake_number = 5\n",
            "['土', '士']\n",
            "／｜A B C\n",
            "ーーーーー\n",
            "1｜土土土\n",
            "2｜土土士\n",
            "3｜土土土\n",
            "(例:A1)A2\n",
            "0\n",
            "2\n",
            "デバッグ:choice = A2\n",
            "デバッグ:input_number = 3\n"
          ],
          "name": "stdout"
        }
      ]
    }
  ]
}