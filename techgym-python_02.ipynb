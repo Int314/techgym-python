{
  "nbformat": 4,
  "nbformat_minor": 0,
  "metadata": {
    "colab": {
      "name": "Untitled0.ipynb",
      "provenance": [],
      "toc_visible": true,
      "authorship_tag": "ABX9TyPXDdKHZc6TtuOhCw+HnK5u",
      "include_colab_link": true
    },
    "kernelspec": {
      "name": "python3",
      "display_name": "Python 3"
    }
  },
  "cells": [
    {
      "cell_type": "markdown",
      "metadata": {
        "id": "view-in-github",
        "colab_type": "text"
      },
      "source": [
        "<a href=\"https://colab.research.google.com/github/Int314/techgym-python/blob/master/techgym-python_02.ipynb\" target=\"_parent\"><img src=\"https://colab.research.google.com/assets/colab-badge.svg\" alt=\"Open In Colab\"/></a>"
      ]
    },
    {
      "cell_type": "code",
      "metadata": {
        "id": "djemMQ-vLkhm",
        "colab_type": "code",
        "outputId": "54ffbae0-b6a1-4628-af5b-7d92a527f2eb",
        "colab": {
          "base_uri": "https://localhost:8080/",
          "height": 272
        }
      },
      "source": [
        "import random\n",
        "import math\n",
        "\n",
        "data = [['見','貝'], ['土','士'], ['眠','眼']]\n",
        "alphabet_number = {'A':0,'B':1,'C':2, 'D':3, 'E':4}\n",
        "number_data = ['A', 'B', 'C', 'D', 'E']\n",
        "level = 1\n",
        "col = 5\n",
        "row = 4\n",
        "\n",
        "def start_message():\n",
        "  print('違う漢字の番号(例:A1)を入力してください')\n",
        "\n",
        "def section_message():\n",
        "  print('レベル:' + str(level))\n",
        "\n",
        "def change_input_number(input_str):\n",
        "  input_list = list(input_str)\n",
        "  alphabet = input_list[0]\n",
        "  number = input_list[1]\n",
        "  return alphabet_number[alphabet] + ((int(number) - 1) * len(alphabet_number))\n",
        "\n",
        "def view_question():\n",
        "  random_number =  random.randint(0, 2)\n",
        "  mistake_number = random.randint(0, col * row - 1)\n",
        "  print('デバッグ:mistake_number = ' + str(mistake_number))\n",
        "  print(data[random_number])\n",
        "\n",
        "  line_1 = '／｜'\n",
        "  line_2 = 'ーー'\n",
        "  for i in range(col):\n",
        "    line_1 += number_data[i] + ' '\n",
        "    line_2 += 'ー'\n",
        "  print(line_1)\n",
        "  print(line_2)\n",
        "\n",
        "  count_all_str = 0\n",
        "  for i in range(row):\n",
        "    choice_string_mullti = ''\n",
        "    choice_string_mullti += (str(i + 1) + '｜')\n",
        "    for j in range(col):\n",
        "      if count_all_str == mistake_number:\n",
        "        choice_string_mullti += data[random_number][1]\n",
        "      else:\n",
        "        choice_string_mullti += data[random_number][0]\n",
        "      count_all_str += 1\n",
        "    print(choice_string_mullti)\n",
        "  return mistake_number\n",
        "\n",
        "def is_correct_number(mistake_number, input_number):\n",
        "  return mistake_number == input_number\n",
        "\n",
        "def view_result(is_correct, mistake_number):\n",
        "  if is_correct:\n",
        "    print('正解！')\n",
        "  else:\n",
        "    print('不正解')\n",
        "    print('正解は：' + change_string(mistake_number))\n",
        "\n",
        "def change_string(number):\n",
        "  col_number = number % len(alphabet_number)\n",
        "  row_number = math.floor(number / len(alphabet_number)) + 1\n",
        "  return number_data[col_number] + str(row_number)\n",
        "\n",
        "def play():\n",
        "  section_message()\n",
        "  mistake_number = view_question()\n",
        "  choice = str.upper(input('(例:A1)'))\n",
        "  print('デバッグ:choice = ' + choice)\n",
        "  input_number = change_input_number(choice)\n",
        "  print('デバッグ:input_number = ' + str(input_number))\n",
        "  is_correct = is_correct_number(mistake_number, input_number)\n",
        "  view_result(is_correct, mistake_number)\n",
        "\n",
        "\n",
        "start_message()\n",
        "play()\n",
        "\n"
      ],
      "execution_count": 12,
      "outputs": [
        {
          "output_type": "stream",
          "text": [
            "違う漢字の番号(例:A1)を入力してください\n",
            "レベル:1\n",
            "デバッグ:mistake_number = 17\n",
            "['土', '士']\n",
            "／｜A B C D E \n",
            "ーーーーーーー\n",
            "1｜土土土土土\n",
            "2｜土土土土土\n",
            "3｜土土土土土\n",
            "4｜土土士土土\n",
            "(例:A1)e5\n",
            "デバッグ:choice = E5\n",
            "デバッグ:input_number = 24\n",
            "不正解\n",
            "正解は：C4\n"
          ],
          "name": "stdout"
        }
      ]
    }
  ]
}