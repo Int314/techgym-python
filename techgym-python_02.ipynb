{
  "nbformat": 4,
  "nbformat_minor": 0,
  "metadata": {
    "colab": {
      "name": "Untitled0.ipynb",
      "provenance": [],
      "toc_visible": true,
      "authorship_tag": "ABX9TyM5JkEI42sAQUzeuTgs6Ozd",
      "include_colab_link": true
    },
    "kernelspec": {
      "name": "python3",
      "display_name": "Python 3"
    }
  },
  "cells": [
    {
      "cell_type": "markdown",
      "metadata": {
        "id": "view-in-github",
        "colab_type": "text"
      },
      "source": [
        "<a href=\"https://colab.research.google.com/github/Int314/techgym-python/blob/master/techgym-python_02.ipynb\" target=\"_parent\"><img src=\"https://colab.research.google.com/assets/colab-badge.svg\" alt=\"Open In Colab\"/></a>"
      ]
    },
    {
      "cell_type": "code",
      "metadata": {
        "id": "djemMQ-vLkhm",
        "colab_type": "code",
        "outputId": "2e03befe-b212-41ee-f065-3a5c40928be9",
        "colab": {
          "base_uri": "https://localhost:8080/",
          "height": 255
        }
      },
      "source": [
        "import random\n",
        "import math\n",
        "\n",
        "alphabet_number = {'A':0,'B':1,'C':2}\n",
        "data = [['見','貝'], ['土','士'], ['眠','眼']]\n",
        "level = 1\n",
        "\n",
        "def start_message():\n",
        "  print('違う漢字の番号(例:A1)を入力してください')\n",
        "\n",
        "def section_message():\n",
        "  print('レベル:' + str(level))\n",
        "\n",
        "def change_input_number(input_str):\n",
        "  input_list = list(input_str)\n",
        "  alphabet = input_list[0]\n",
        "  number = input_list[1]\n",
        "  return alphabet_number[alphabet] + ((int(number) - 1) * len(alphabet_number))\n",
        "\n",
        "\n",
        "\n",
        "def view_question():\n",
        "  random_number =  random.randint(0, 2)\n",
        "  mistake_number = random.randint(0, 8)\n",
        "  print('デバッグ:mistake_number = ' + str(mistake_number))\n",
        "  print(data[random_number])\n",
        "\n",
        "  print('／｜A B C')\n",
        "  print('ーーーーー')\n",
        "\n",
        "  count_all_str = 0\n",
        "  for i in range(3):\n",
        "    choice_string_mullti = ''\n",
        "    choice_string_mullti += (str(i + 1) + '｜')\n",
        "    for j in range(3):\n",
        "      if count_all_str == mistake_number:\n",
        "        choice_string_mullti += data[random_number][1]\n",
        "      else:\n",
        "        choice_string_mullti += data[random_number][0]\n",
        "      count_all_str += 1\n",
        "    print(choice_string_mullti)\n",
        "  return mistake_number\n",
        "\n",
        "def is_correct_number(mistake_number, input_number):\n",
        "  return mistake_number == input_number\n",
        "\n",
        "def view_result(is_correct, mistake_number):\n",
        "  if is_correct:\n",
        "    print('正解！')\n",
        "  else:\n",
        "    print('不正解')\n",
        "    print('正解は：' + change_string(mistake_number))\n",
        "\n",
        "\n",
        "def change_string(number):\n",
        "  number_data = ['A', 'B', 'C']\n",
        "  col_number = number % len(alphabet_number)\n",
        "  row_number = math.floor(number / len(alphabet_number)) + 1\n",
        "  return number_data[col_number] + str(row_number)\n",
        "\n",
        "def play():\n",
        "  section_message()\n",
        "  mistake_number = view_question()\n",
        "  choice = str.upper(input('(例:A1)'))\n",
        "  print('デバッグ:choice = ' + choice)\n",
        "  input_number = change_input_number(choice)\n",
        "  print('デバッグ:input_number = ' + str(input_number))\n",
        "  is_correct = is_correct_number(mistake_number, input_number)\n",
        "  view_result(is_correct, mistake_number)\n",
        "\n",
        "\n",
        "start_message()\n",
        "play()\n",
        "\n"
      ],
      "execution_count": 12,
      "outputs": [
        {
          "output_type": "stream",
          "text": [
            "違う漢字の番号(例:A1)を入力してください\n",
            "レベル:1\n",
            "デバッグ:mistake_number = 5\n",
            "['見', '貝']\n",
            "／｜A B C\n",
            "ーーーーー\n",
            "1｜見見見\n",
            "2｜見見貝\n",
            "3｜見見見\n",
            "(例:A1)a1\n",
            "デバッグ:choice = A1\n",
            "デバッグ:input_number = 0\n",
            "不正解\n",
            "正解は：C2\n"
          ],
          "name": "stdout"
        }
      ]
    }
  ]
}