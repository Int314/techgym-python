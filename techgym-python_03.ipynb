{
  "nbformat": 4,
  "nbformat_minor": 0,
  "metadata": {
    "colab": {
      "name": "Untitled0.ipynb",
      "provenance": [],
      "authorship_tag": "ABX9TyMafaFmtdq36ukcsZ16CRG4",
      "include_colab_link": true
    },
    "kernelspec": {
      "name": "python3",
      "display_name": "Python 3"
    }
  },
  "cells": [
    {
      "cell_type": "markdown",
      "metadata": {
        "id": "view-in-github",
        "colab_type": "text"
      },
      "source": [
        "<a href=\"https://colab.research.google.com/github/Int314/techgym-python/blob/master/techgym-python_03.ipynb\" target=\"_parent\"><img src=\"https://colab.research.google.com/assets/colab-badge.svg\" alt=\"Open In Colab\"/></a>"
      ]
    },
    {
      "cell_type": "code",
      "metadata": {
        "id": "nZbZwgYDv6ar",
        "outputId": "a5057be3-67eb-442b-aea9-83a6b9331e16",
        "colab": {
          "base_uri": "https://localhost:8080/",
          "height": 255
        }
      },
      "source": [
        "import random\n",
        "import math\n",
        "\n",
        "teams = []\n",
        "playing_teams = {'myself': False, 'enemy': False}\n",
        "\n",
        "class Team:\n",
        "  def __init__(self, name, attack, defense):\n",
        "    self.name = name\n",
        "    self.attack = attack\n",
        "    self.defense = defense\n",
        "    self.total_score = 0\n",
        "\n",
        "  def info(self):\n",
        "    print(self.name + ': 攻撃力:' + str(self.attack) + ' / 守備力:' + str(self.defense))\n",
        "\n",
        "  def get_hit_rate(self):\n",
        "    return random.randint(10, self.attack)\n",
        "\n",
        "  def get_out_rate(self):\n",
        "    return random.randint(10, self.defense)\n",
        "\n",
        "def create_teams():\n",
        "  global teams\n",
        "  team1 = Team('アタッカーズ', 80, 20)\n",
        "  team2 = Team('ディフェンダーズ', 30, 70)\n",
        "  team3 = Team('アベレージーズ', 50, 50)\n",
        "  teams = [team1, team2, team3]\n",
        "\n",
        "def show_teams():\n",
        "  index = 1\n",
        "  print('全チームの情報')\n",
        "  for team in teams:\n",
        "    print(str(index))\n",
        "    team.info()\n",
        "    index += 1\n",
        "\n",
        "def choice_team(player):\n",
        "  if player == 'myself':\n",
        "    player_name = '自分'\n",
        "  elif player == 'enemy':\n",
        "    player_name = '相手'\n",
        "\n",
        "  choice_team_number = int(input(player_name + 'のチームを選択してください（1〜3）'))\n",
        "  playing_teams[player] = teams[choice_team_number - 1]\n",
        "  print(player_name + 'のチームは「' + playing_teams[player].name + '」です')\n",
        "\n",
        "def get_play_inning(inning):\n",
        "  if inning == 'front':\n",
        "    hit_rate = playing_teams['myself'].get_hit_rate()\n",
        "    out_rate = playing_teams['enemy'].get_out_rate()\n",
        "  elif inning == 'back':\n",
        "    hit_rate = playing_teams['enemy'].get_hit_rate()\n",
        "    out_rate = playing_teams['myself'].get_out_rate()\n",
        "  inning_score = math.floor((hit_rate - out_rate) / 10)\n",
        "  if inning_score < 0:\n",
        "    inning_score = 0\n",
        "  return inning_score\n",
        "\n",
        "def play():\n",
        "  # チーム作成\n",
        "  create_teams()\n",
        "  # チーム表示\n",
        "  show_teams()\n",
        "  # チーム選択\n",
        "  choice_team('myself')\n",
        "  choice_team('enemy')\n",
        "\n",
        "  score_boards = ['＿＿｜', '自分｜', '相手｜']\n",
        "  for i in range(9):\n",
        "    score_boards[0] += str(i + 1) + '｜'\n",
        "    # 表\n",
        "    inning_score = get_play_inning('front')\n",
        "    score_boards[1] += str(inning_score) + '｜'\n",
        "    playing_teams['myself'].total_score += inning_score\n",
        "    # 裏\n",
        "    if i == 8 and playing_teams['myself'].total_score < playing_teams['enemy'].total_score:\n",
        "      score_boards[2] += 'X｜'\n",
        "    else:\n",
        "      inning_score = get_play_inning('back')\n",
        "      score_boards[2] += str(inning_score) + '｜'\n",
        "      playing_teams['enemy'].total_score += inning_score\n",
        "  # 合計\n",
        "  score_boards[0] += 'R｜'\n",
        "  score_boards[1] += str(playing_teams['myself'].total_score) + '｜'\n",
        "  score_boards[2] += str(playing_teams['enemy'].total_score) + '｜'\n",
        "  # 結果表示\n",
        "  print(score_boards[0])\n",
        "  print(score_boards[1])\n",
        "  print(score_boards[2])\n",
        "\n",
        "play()"
      ],
      "execution_count": 2,
      "outputs": [
        {
          "output_type": "stream",
          "text": [
            "全チームの情報\n",
            "1\n",
            "アタッカーズ: 攻撃力:80 / 守備力:20\n",
            "2\n",
            "ディフェンダーズ: 攻撃力:30 / 守備力:70\n",
            "3\n",
            "アベレージーズ: 攻撃力:50 / 守備力:50\n",
            "自分のチームを選択してください（1〜3）1\n",
            "自分のチームは「アタッカーズ」です\n",
            "相手のチームを選択してください（1〜3）2\n",
            "相手のチームは「ディフェンダーズ」です\n",
            "＿＿｜1｜2｜3｜4｜5｜6｜7｜8｜9｜R｜\n",
            "自分｜4｜0｜0｜3｜0｜0｜0｜0｜3｜10｜\n",
            "相手｜0｜1｜0｜0｜0｜1｜0｜1｜0｜3｜\n"
          ],
          "name": "stdout"
        }
      ]
    }
  ]
}