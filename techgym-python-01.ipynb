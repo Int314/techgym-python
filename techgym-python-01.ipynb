{
  "nbformat": 4,
  "nbformat_minor": 0,
  "metadata": {
    "colab": {
      "name": "Untitled1.ipynb",
      "provenance": [],
      "authorship_tag": "ABX9TyNe9t7L2W9cKEW7ejmAuN2o",
      "include_colab_link": true
    },
    "kernelspec": {
      "name": "python3",
      "display_name": "Python 3"
    }
  },
  "cells": [
    {
      "cell_type": "markdown",
      "metadata": {
        "id": "view-in-github",
        "colab_type": "text"
      },
      "source": [
        "<a href=\"https://colab.research.google.com/github/Int314/techgym-python/blob/master/techgym-python-01.ipynb\" target=\"_parent\"><img src=\"https://colab.research.google.com/assets/colab-badge.svg\" alt=\"Open In Colab\"/></a>"
      ]
    },
    {
      "cell_type": "code",
      "metadata": {
        "id": "irItfEm3hLpI",
        "colab_type": "code",
        "colab": {
          "base_uri": "https://localhost:8080/",
          "height": 136
        },
        "outputId": "9a8bb9e2-b170-42ae-ce5c-876bd19ddffc"
      },
      "source": [
        "import random\n",
        "\n",
        "# ジャンケン配列\n",
        "hands = ['グー', 'チョキ', 'パー']\n",
        "# 結果辞書\n",
        "results = {'win':'勝ち', 'lose':'負け', 'draw':'あいこ'}\n",
        "\n",
        "# 開始メッセージ表示\n",
        "def start_message():\n",
        "  print('じゃんけんスタート')\n",
        "  \n",
        "# 入力値バリデーション\n",
        "def is_hand(input_hand):\n",
        "  # 数値チェック\n",
        "  if input_hand.isdigit() == False:\n",
        "    return False\n",
        "  # 入力可能数値チェック\n",
        "  if int(input_hand) < 0 or int(input_hand) >= len(hands):\n",
        "    return False\n",
        "  return True\n",
        "\n",
        "# 自分の手を取得\n",
        "def get_my_hand():\n",
        "  print('自分の手を入力してください')\n",
        "  message_list = []\n",
        "  index = 0\n",
        "  for hand in hands:\n",
        "    message_list.append(str(index) + ':' + hand)\n",
        "    index += 1\n",
        "  return input(', '.join(message_list))\n",
        "\n",
        "# 相手の手を取得\n",
        "def get_you_hand():\n",
        "  you_hand = random.randint(0, 2)\n",
        "  return you_hand\n",
        "\n",
        "# 手の名称を取得\n",
        "def get_hand_name(hand_number):\n",
        "  return hands[hand_number]\n",
        "\n",
        "# 自分と相手の手を表示\n",
        "def view_hand(my_hand, you_hand):\n",
        "  print('自分の手は ' + get_hand_name(my_hand))\n",
        "  print('相手の手は ' + get_hand_name(you_hand))\n",
        "\n",
        "# 結果を取得\n",
        "def get_results(hand_diff):\n",
        "  if hand_diff == 0:\n",
        "    return 'draw'\n",
        "  elif hand_diff == -1 or hand_diff == 2:\n",
        "    return 'win'\n",
        "  else:\n",
        "    return 'lose'\n",
        "\n",
        "# 結果を表示\n",
        "def view_result(result):\n",
        "  print(result)\n",
        "  print(results[result])\n",
        "\n",
        "# メイン関数\n",
        "def play():\n",
        "  # 自分の手を取得\n",
        "  my_hand = get_my_hand()\n",
        "  # バリデーション\n",
        "  while not is_hand(my_hand):\n",
        "    print('正しい入力値を入力してください')\n",
        "    my_hand = get_my_hand()\n",
        "  my_hand = int(my_hand)\n",
        "  \n",
        "  # 相手の手を取得\n",
        "  you_hand = get_you_hand()\n",
        "  # 数値としての差\n",
        "  hand_diff = my_hand - you_hand\n",
        "  # 自分と相手の手を表示\n",
        "  view_hand(my_hand, you_hand)\n",
        "  # じゃんけん結果を取得\n",
        "  result = get_results(hand_diff)\n",
        "  # 結果を表示\n",
        "  view_result(result)\n",
        "  # 再起処理\n",
        "  if result == 'draw':\n",
        "    play()\n",
        "\n",
        "# 開始メッセージ\n",
        "start_message()\n",
        "# プレイ開始\n",
        "play()\n",
        "\n",
        "\n"
      ],
      "execution_count": 1,
      "outputs": [
        {
          "output_type": "stream",
          "text": [
            "じゃんけんスタート\n",
            "自分の手を入力してください\n",
            "0:グー, 1:チョキ, 2:パー0\n",
            "自分の手は グー\n",
            "相手の手は チョキ\n",
            "win\n",
            "勝ち\n"
          ],
          "name": "stdout"
        }
      ]
    }
  ]
}